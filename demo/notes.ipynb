{
 "cells": [
  {
   "cell_type": "code",
   "execution_count": 15,
   "id": "be624a20",
   "metadata": {},
   "outputs": [],
   "source": [
    "path = 'C:/Users/Users/Documents/repos/Python/Graph/'\n",
    "import sys\n",
    "sys.path.insert(1, path)\n",
    "from base_objects.node import Node"
   ]
  },
  {
   "cell_type": "code",
   "execution_count": 18,
   "id": "cd976c77",
   "metadata": {},
   "outputs": [
    {
     "data": {
      "text/plain": [
       "a : {'f1': 'f1'}"
      ]
     },
     "execution_count": 18,
     "metadata": {},
     "output_type": "execute_result"
    }
   ],
   "source": [
    "n = Node('a',f1='f1')\n",
    "n"
   ]
  },
  {
   "cell_type": "code",
   "execution_count": 20,
   "id": "187fec86",
   "metadata": {},
   "outputs": [
    {
     "data": {
      "text/plain": [
       "{'f1': 'f1'}"
      ]
     },
     "execution_count": 20,
     "metadata": {},
     "output_type": "execute_result"
    }
   ],
   "source": [
    "n.attrs"
   ]
  },
  {
   "cell_type": "code",
   "execution_count": 21,
   "id": "528ccc44",
   "metadata": {},
   "outputs": [
    {
     "data": {
      "text/plain": [
       "'a'"
      ]
     },
     "execution_count": 21,
     "metadata": {},
     "output_type": "execute_result"
    }
   ],
   "source": [
    "n.name"
   ]
  },
  {
   "cell_type": "code",
   "execution_count": 22,
   "id": "3f869fcb",
   "metadata": {},
   "outputs": [],
   "source": [
    "n['f2'] = 'sds'"
   ]
  },
  {
   "cell_type": "code",
   "execution_count": 24,
   "id": "ac0c5cc9",
   "metadata": {},
   "outputs": [
    {
     "data": {
      "text/plain": [
       "a : {'f1': 'f1', 'f2': 'sds'}"
      ]
     },
     "execution_count": 24,
     "metadata": {},
     "output_type": "execute_result"
    }
   ],
   "source": [
    "n"
   ]
  },
  {
   "cell_type": "code",
   "execution_count": null,
   "id": "b1435082",
   "metadata": {},
   "outputs": [],
   "source": []
  }
 ],
 "metadata": {
  "kernelspec": {
   "display_name": "Python 3 (ipykernel)",
   "language": "python",
   "name": "python3"
  },
  "language_info": {
   "codemirror_mode": {
    "name": "ipython",
    "version": 3
   },
   "file_extension": ".py",
   "mimetype": "text/x-python",
   "name": "python",
   "nbconvert_exporter": "python",
   "pygments_lexer": "ipython3",
   "version": "3.9.12"
  }
 },
 "nbformat": 4,
 "nbformat_minor": 5
}
