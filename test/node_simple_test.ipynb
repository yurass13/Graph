{
 "cells": [
  {
   "cell_type": "code",
   "execution_count": 1,
   "id": "be624a20",
   "metadata": {},
   "outputs": [],
   "source": [
    "project_path = \"../src\"\n",
    "from sys import path\n",
    "path.insert(0, project_path)\n",
    "from base_objects import Node"
   ]
  },
  {
   "cell_type": "code",
   "execution_count": 2,
   "id": "cd976c77",
   "metadata": {},
   "outputs": [
    {
     "data": {
      "text/plain": [
       "'a' : {'f1': 'f1'}"
      ]
     },
     "execution_count": 2,
     "metadata": {},
     "output_type": "execute_result"
    }
   ],
   "source": [
    "n = Node('a',f1='f1')\n",
    "n"
   ]
  },
  {
   "cell_type": "code",
   "execution_count": 3,
   "id": "187fec86",
   "metadata": {},
   "outputs": [
    {
     "data": {
      "text/plain": [
       "{'f1': 'f1'}"
      ]
     },
     "execution_count": 3,
     "metadata": {},
     "output_type": "execute_result"
    }
   ],
   "source": [
    "n.attrs"
   ]
  },
  {
   "cell_type": "code",
   "execution_count": 4,
   "id": "528ccc44",
   "metadata": {},
   "outputs": [
    {
     "data": {
      "text/plain": [
       "'a'"
      ]
     },
     "execution_count": 4,
     "metadata": {},
     "output_type": "execute_result"
    }
   ],
   "source": [
    "n.name"
   ]
  },
  {
   "cell_type": "code",
   "execution_count": 5,
   "id": "3f869fcb",
   "metadata": {},
   "outputs": [],
   "source": [
    "n['f2'] = 'test_attribute'"
   ]
  },
  {
   "cell_type": "code",
   "execution_count": 6,
   "id": "ac0c5cc9",
   "metadata": {},
   "outputs": [
    {
     "data": {
      "text/plain": [
       "'a' : {'f1': 'f1', 'f2': 'test_attribute'}"
      ]
     },
     "execution_count": 6,
     "metadata": {},
     "output_type": "execute_result"
    }
   ],
   "source": [
    "n"
   ]
  },
  {
   "cell_type": "code",
   "execution_count": null,
   "id": "dfeb38d8",
   "metadata": {},
   "outputs": [],
   "source": []
  }
 ],
 "metadata": {
  "kernelspec": {
   "display_name": "Python 3",
   "language": "python",
   "name": "python3"
  },
  "language_info": {
   "codemirror_mode": {
    "name": "ipython",
    "version": 3
   },
   "file_extension": ".py",
   "mimetype": "text/x-python",
   "name": "python",
   "nbconvert_exporter": "python",
   "pygments_lexer": "ipython3",
   "version": "3.10.6"
  },
  "vscode": {
   "interpreter": {
    "hash": "916dbcbb3f70747c44a77c7bcd40155683ae19c65e1c03b4aa3499c5328201f1"
   }
  }
 },
 "nbformat": 4,
 "nbformat_minor": 5
}
