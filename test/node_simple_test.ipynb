{
 "cells": [
  {
   "cell_type": "code",
   "execution_count": 1,
   "id": "be624a20",
   "metadata": {},
   "outputs": [],
   "source": [
    "project_path = \"../src/\"\n",
    "from sys import path\n",
    "path.insert(0, project_path)\n",
    "from base_objects import Node"
   ]
  },
  {
   "cell_type": "code",
   "execution_count": 2,
   "id": "cd976c77",
   "metadata": {},
   "outputs": [],
   "source": [
    "test1 = Node('a', f1='f1 str attribute')\n",
    "assert test1.__repr__() == \"a : {'f1': 'f1 str attribute'}\""
   ]
  },
  {
   "cell_type": "code",
   "execution_count": 3,
   "id": "3f869fcb",
   "metadata": {},
   "outputs": [],
   "source": [
    "test_lambda = lambda x: x/2\n",
    "test1['f2'] = 2\n",
    "test1['f3'] = test_lambda\n",
    "assert test1.__repr__() == \"a : {'f1': 'f1 str attribute', 'f2': 2, 'f3': \" + f\"{str(test_lambda)}\" + \"}\""
   ]
  },
  {
   "cell_type": "code",
   "execution_count": 4,
   "id": "7cd2c26b",
   "metadata": {},
   "outputs": [],
   "source": [
    "del test1['f2']\n",
    "test1['f3'] = None\n",
    "assert test1.__repr__() == \"a : {'f1': 'f1 str attribute', 'f3': None}\""
   ]
  },
  {
   "cell_type": "code",
   "execution_count": 5,
   "id": "9c83bf02",
   "metadata": {},
   "outputs": [],
   "source": [
    "test2 = Node(\n",
    "    'b',\n",
    "    **{'value': 21, 'proto': test1}\n",
    ")\n",
    "assert test2.__repr__() == \"b : {'value': 21, 'proto': \" + f\"{str(test1)}\" + \"}\""
   ]
  },
  {
   "cell_type": "code",
   "execution_count": 6,
   "id": "87639efa",
   "metadata": {},
   "outputs": [],
   "source": [
    "try:\n",
    "    test3 = Node(2)\n",
    "    if not isinstance(test3.name, str):\n",
    "        raise TypeError\n",
    "except Exception:\n",
    "    assert False"
   ]
  },
  {
   "cell_type": "code",
   "execution_count": null,
   "id": "595b6a45",
   "metadata": {},
   "outputs": [],
   "source": []
  }
 ],
 "metadata": {
  "kernelspec": {
   "display_name": "Python 3",
   "language": "python",
   "name": "python3"
  },
  "language_info": {
   "codemirror_mode": {
    "name": "ipython",
    "version": 3
   },
   "file_extension": ".py",
   "mimetype": "text/x-python",
   "name": "python",
   "nbconvert_exporter": "python",
   "pygments_lexer": "ipython3",
   "version": "3.10.6"
  },
  "vscode": {
   "interpreter": {
    "hash": "916dbcbb3f70747c44a77c7bcd40155683ae19c65e1c03b4aa3499c5328201f1"
   }
  }
 },
 "nbformat": 4,
 "nbformat_minor": 5
}
