{
 "cells": [
  {
   "cell_type": "code",
   "execution_count": 1,
   "id": "be624a20",
   "metadata": {},
   "outputs": [],
   "source": [
    "path = r'C:\\Users\\Users\\Documents\\repos\\Python\\Graph\\src'\n",
    "import sys\n",
    "sys.path.insert(1, path)\n",
    "from base_objects.node import Node"
   ]
  },
  {
   "cell_type": "code",
   "execution_count": 2,
   "id": "cd976c77",
   "metadata": {},
   "outputs": [
    {
     "data": {
      "text/plain": [
       "a : {'f1': 'f1'}"
      ]
     },
     "execution_count": 2,
     "metadata": {},
     "output_type": "execute_result"
    }
   ],
   "source": [
    "n = Node('a',f1='f1')\n",
    "n"
   ]
  },
  {
   "cell_type": "code",
   "execution_count": 3,
   "id": "187fec86",
   "metadata": {},
   "outputs": [
    {
     "data": {
      "text/plain": [
       "{'f1': 'f1'}"
      ]
     },
     "execution_count": 3,
     "metadata": {},
     "output_type": "execute_result"
    }
   ],
   "source": [
    "n.attrs"
   ]
  },
  {
   "cell_type": "code",
   "execution_count": 4,
   "id": "528ccc44",
   "metadata": {},
   "outputs": [
    {
     "data": {
      "text/plain": [
       "'a'"
      ]
     },
     "execution_count": 4,
     "metadata": {},
     "output_type": "execute_result"
    }
   ],
   "source": [
    "n.name"
   ]
  },
  {
   "cell_type": "code",
   "execution_count": 5,
   "id": "3f869fcb",
   "metadata": {},
   "outputs": [],
   "source": [
    "n['f2'] = 'test_attribute'"
   ]
  },
  {
   "cell_type": "code",
   "execution_count": 6,
   "id": "ac0c5cc9",
   "metadata": {},
   "outputs": [
    {
     "data": {
      "text/plain": [
       "a : {'f1': 'f1', 'f2': 'test_attribute'}"
      ]
     },
     "execution_count": 6,
     "metadata": {},
     "output_type": "execute_result"
    }
   ],
   "source": [
    "n"
   ]
  }
 ],
 "metadata": {
  "kernelspec": {
   "display_name": "Python 3.10.5 64-bit",
   "language": "python",
   "name": "python3"
  },
  "language_info": {
   "codemirror_mode": {
    "name": "ipython",
    "version": 3
   },
   "file_extension": ".py",
   "mimetype": "text/x-python",
   "name": "python",
   "nbconvert_exporter": "python",
   "pygments_lexer": "ipython3",
   "version": "3.10.5"
  },
  "vscode": {
   "interpreter": {
    "hash": "f5634eca0c0168eab924e8a2d5436b8fd48fd57f7bc57f560aaedd919da73f62"
   }
  }
 },
 "nbformat": 4,
 "nbformat_minor": 5
}
