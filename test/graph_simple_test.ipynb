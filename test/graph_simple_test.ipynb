{
 "cells": [
  {
   "cell_type": "code",
   "execution_count": 1,
   "metadata": {},
   "outputs": [],
   "source": [
    "project_path = \"../src\"\n",
    "from sys import path\n",
    "path.insert(0, project_path)\n",
    "from base_objects import (\n",
    "    Graph,\n",
    "    Edge,\n",
    "    Node\n",
    ")"
   ]
  },
  {
   "cell_type": "code",
   "execution_count": 2,
   "metadata": {},
   "outputs": [
    {
     "data": {
      "text/plain": [
       "_______________Edges_______________\n",
       "\n",
       "_______________Nodes_______________\n",
       "3 : {}\n",
       "2 : {}\n",
       "7 : {'some_dict': {'d': 'p', 'p': 'd'}}\n",
       "1 : {}"
      ]
     },
     "execution_count": 2,
     "metadata": {},
     "output_type": "execute_result"
    }
   ],
   "source": [
    "test_graph = Graph()\n",
    "test_graph.add_node(Node('1'), kek='lol')\n",
    "test_graph.add_node(Node(2), func= lambda x: x/2)\n",
    "test_graph.add_node('7', some_dict = {'d':'p', 'p':'d'})\n",
    "test_graph.add_node(3)\n",
    "test_graph"
   ]
  },
  {
   "cell_type": "code",
   "execution_count": 3,
   "metadata": {},
   "outputs": [
    {
     "data": {
      "text/plain": [
       "_______________Edges_______________\n",
       "kekEdge : {'shit': <class '__main__.Bull'>}\n",
       "3 == 2 : {'some_str': \"some fucking text for parsing in 'ОАОП'\"}\n",
       "7 -> 1 : {'some_none': None}\n",
       "_______________Nodes_______________\n",
       "3 : {}\n",
       "2 : {}\n",
       "7 : {'some_dict': {'d': 'p', 'p': 'd'}}\n",
       "1 : {}"
      ]
     },
     "execution_count": 3,
     "metadata": {},
     "output_type": "execute_result"
    }
   ],
   "source": [
    "test_graph._edges.add(Edge(Node('1'), Node(2), name='kekEdge',shit=type('Bull',(), {'bigg_bolls' : None})))\n",
    "test_graph._edges.add(Edge(Node(7), Node(1), is_oriented=True, some_none=None))\n",
    "test_graph._edges.add(Edge(Node(3), Node(2), is_oriented=False, some_str=\"some fucking text for parsing in 'ОАОП'\"))\n",
    "test_graph"
   ]
  },
  {
   "cell_type": "code",
   "execution_count": null,
   "metadata": {},
   "outputs": [],
   "source": []
  }
 ],
 "metadata": {
  "kernelspec": {
   "display_name": "Python 3",
   "language": "python",
   "name": "python3"
  },
  "language_info": {
   "codemirror_mode": {
    "name": "ipython",
    "version": 3
   },
   "file_extension": ".py",
   "mimetype": "text/x-python",
   "name": "python",
   "nbconvert_exporter": "python",
   "pygments_lexer": "ipython3",
   "version": "3.10.6"
  },
  "orig_nbformat": 4,
  "vscode": {
   "interpreter": {
    "hash": "916dbcbb3f70747c44a77c7bcd40155683ae19c65e1c03b4aa3499c5328201f1"
   }
  }
 },
 "nbformat": 4,
 "nbformat_minor": 2
}
